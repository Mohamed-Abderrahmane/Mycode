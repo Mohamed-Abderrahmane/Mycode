{
 "cells": [
  {
   "cell_type": "code",
   "execution_count": 1,
   "id": "4a3ec85d-224e-4f7f-9760-4ad272cd8e22",
   "metadata": {},
   "outputs": [],
   "source": [
    "import xgboost as xgb\n",
    "import pandas as pd\n",
    "import numpy as np\n",
    "from sklearn.preprocessing import LabelEncoder\n",
    "import sklearn.model_selection as ms\n",
    "import matplotlib.pyplot as plt\n",
    "from sklearn import tree\n",
    "from sklearn.ensemble import RandomForestClassifier\n",
    "from sklearn.ensemble import RandomForestRegressor\n",
    "from sklearn.metrics import accuracy_score as im\n",
    "from sklearn.svm import SVC\n",
    "from sklearn.metrics import mean_absolute_error\n",
    "import shap as shap\n",
    "from sklearn.preprocessing import StandardScaler\n",
    "from sklearn.neural_network import MLPRegressor\n",
    "import boruta as b"
   ]
  },
  {
   "cell_type": "code",
   "execution_count": 2,
   "id": "30b9b19e-5a12-4ef9-8164-66c19cfe7d79",
   "metadata": {},
   "outputs": [],
   "source": [
    "audio = pd.read_csv(r\"audio.csv\")\n",
    "audio = audio.drop(['Unnamed: 0', 'Unnamed: 0_x'], axis = 1)"
   ]
  },
  {
   "cell_type": "code",
   "execution_count": 3,
   "id": "9add5177-e5c1-4bfe-8839-4b67cf04473b",
   "metadata": {},
   "outputs": [],
   "source": [
    "y = audio['sex'].replace('F',0)\n",
    "y = y.replace('M',1)\n",
    "X = audio.iloc[:,3:119]\n"
   ]
  },
  {
   "cell_type": "code",
   "execution_count": 4,
   "id": "1b076c94-163b-4e11-914c-0da41e05a68e",
   "metadata": {},
   "outputs": [],
   "source": [
    "\n",
    "X_train, X_test, y_train, y_test = ms.train_test_split(X,y, test_size = 0.25, random_state = 12)\n"
   ]
  },
  {
   "cell_type": "code",
   "execution_count": 5,
   "id": "fc5a7990-922c-4e1c-8f9f-db129d29d7df",
   "metadata": {},
   "outputs": [
    {
     "name": "stdout",
     "output_type": "stream",
     "text": [
      "score_svc  :  0.5890227576974565\n",
      "score_random_forest  :  0.5796519410977242\n",
      "score_xgb  :  0.5622489959839357\n"
     ]
    }
   ],
   "source": [
    "classifier_svc = SVC()\n",
    "classifier_svc.fit(X_train, y_train)\n",
    "y_pred_svc = classifier_svc.predict(X_test)\n",
    "score = im(y_pred_svc,y_test)\n",
    "print(\"score_svc  : \", im(y_pred_svc,y_test))\n",
    "\n",
    "classifier = RandomForestClassifier(n_estimators = 120)\n",
    "classifier.fit(X_train, y_train)\n",
    "y_pred = classifier.predict(X_test)\n",
    "#print(\"y_train[:] \",y_train[:] )\n",
    "print(\"score_random_forest  : \", im(y_pred,y_test))\n",
    "\n",
    "\n",
    "clf_xgb = xgb.XGBClassifier()\n",
    "clf_xgb.fit(X_train, y_train)\n",
    "y_pred_xgb = clf_xgb.predict(X_test)\n",
    "\n",
    "#Calcul de la performance de nos predictions\n",
    "print(\"score_xgb  : \",im(y_pred_xgb,y_test))"
   ]
  },
  {
   "cell_type": "markdown",
   "id": "58025c6b-d7da-4c7d-9dc6-b947993c7925",
   "metadata": {},
   "source": [
    "On constate que pour les paramètres par défaut le randomforest est meilleur que svc et xgboost. Il a un score de 0.60."
   ]
  },
  {
   "cell_type": "markdown",
   "id": "4d9010b5-730b-485b-a993-509dd16c7b45",
   "metadata": {},
   "source": [
    "On procède à la création des fonctions qui vont nous permettre de voir l'impact des différents paramètres pour chacun de ces algo."
   ]
  },
  {
   "cell_type": "code",
   "execution_count": 6,
   "id": "e3002c1b-477f-45cc-a302-9b09e882a9e3",
   "metadata": {},
   "outputs": [],
   "source": [
    "def svc(kernel,  X_train, y_train, X_test, y_test):\n",
    "    classifier_svc = SVC(kernel=kernel)\n",
    "    classifier_svc.fit(X_train, y_train)\n",
    "    y_pred_svc = classifier_svc.predict(X_test)\n",
    "    score = im(y_pred_svc,y_test)\n",
    "    return score"
   ]
  },
  {
   "cell_type": "code",
   "execution_count": 7,
   "id": "2fd5f4b9-0a45-4d3a-8125-baeb1ceb6d7f",
   "metadata": {},
   "outputs": [],
   "source": [
    "def xgbClassifier(n_estimators, X_train, y_train, X_test, y_test):\n",
    "    clf_xgb = xgb.XGBClassifier(n_estimators=n_estimators)\n",
    "    clf_xgb.fit(X_train, y_train)\n",
    "    y_pred_xgb = clf_xgb.predict(X_test)\n",
    "    score = im(y_pred_xgb,y_test)\n",
    "    return score\n",
    "    \n",
    "    "
   ]
  },
  {
   "cell_type": "markdown",
   "id": "8c554932-47cb-4a0b-992d-16732cabadde",
   "metadata": {},
   "source": [
    "scores_gini = []\n",
    "scores_entropy = []\n",
    "for i in range(100,150):\n",
    "    clf_g = RandomForestClassifier(n_estimators=i, criterion = 'gini')\n",
    "    clf_g = clf_g.fit(X_train, y_train)\n",
    "    ypred_g = clf_g.predict(X_test)\n",
    "    score = im(ypred_g,y_test)\n",
    "    scores_gini.append(score)\n",
    "for i in range(100,150):\n",
    "    clf = RandomForestClassifier(n_estimators=i, criterion = 'entropy')\n",
    "    clf = clf.fit(X_train, y_train)\n",
    "    ypred = clf.predict(X_test)\n",
    "    score = im(ypred,y_test)\n",
    "    scores_entropy.append(random_forest(i,'entropy', X_train, y_train, X_test, y_test))\n",
    "print(scores_gini)\n",
    "print(scores_entropy)"
   ]
  },
  {
   "cell_type": "code",
   "execution_count": 8,
   "id": "29f6fc4f-fafc-48b3-877b-271ba5e847e4",
   "metadata": {},
   "outputs": [],
   "source": [
    "rf =  RandomForestClassifier(n_estimators= 120)"
   ]
  },
  {
   "cell_type": "code",
   "execution_count": null,
   "id": "962934d9-430e-41ca-b62e-2d79d01e5d8d",
   "metadata": {},
   "outputs": [
    {
     "name": "stdout",
     "output_type": "stream",
     "text": [
      "Iteration: \t1 / 100\n",
      "Confirmed: \t0\n",
      "Tentative: \t116\n",
      "Rejected: \t0\n",
      "Iteration: \t2 / 100\n",
      "Confirmed: \t0\n",
      "Tentative: \t116\n",
      "Rejected: \t0\n",
      "Iteration: \t3 / 100\n",
      "Confirmed: \t0\n",
      "Tentative: \t116\n",
      "Rejected: \t0\n"
     ]
    }
   ],
   "source": [
    "feat_selector = b.BorutaPy(rf, n_estimators='auto', verbose=2, random_state=1)\n",
    "feat_selector.fit(X.values, y.values)"
   ]
  },
  {
   "cell_type": "markdown",
   "id": "89c97810-8437-4a26-a7bb-b5027e77afc0",
   "metadata": {},
   "source": [
    "Grace à l'algorithme de boruta, on arrive à réduire le nombre de colonnes en ne gardant que celle qui sont significatives dans notre prédiction."
   ]
  },
  {
   "cell_type": "code",
   "execution_count": null,
   "id": "48b09df9-665e-46e7-9cc0-347624e1f949",
   "metadata": {},
   "outputs": [],
   "source": [
    "liste = feat_selector.support_\n",
    "good_col = []\n",
    "for i in range(len(liste)):\n",
    "    if liste[i]==True:\n",
    "        good_col.append(i)\n",
    "good_col"
   ]
  },
  {
   "cell_type": "code",
   "execution_count": null,
   "id": "171b52ed-d8fc-4a03-a0b7-bed7085a17c0",
   "metadata": {},
   "outputs": [],
   "source": [
    "new_X = audio[audio.columns[good_col]].values"
   ]
  },
  {
   "cell_type": "code",
   "execution_count": null,
   "id": "7d512fa6-774b-43ca-a1c5-8feb1ebc7128",
   "metadata": {},
   "outputs": [],
   "source": [
    "rf.fit(X_train,y_train)\n",
    "shap_explainer = shap.TreeExplainer(rf)\n",
    "shap_values = shap_explainer.shap_values(new_X)\n",
    "shap.summary_plot(shap_values[0], X, plot_type = 'dot' )"
   ]
  },
  {
   "cell_type": "markdown",
   "id": "39f3a32e-d171-4d82-8d60-3a2da2c2587f",
   "metadata": {},
   "source": [
    "Partie 2"
   ]
  },
  {
   "cell_type": "markdown",
   "id": "a3bcf0fe-78d4-438f-99fa-991fbed3ae18",
   "metadata": {},
   "source": [
    "Analyse prédictive de l’âge"
   ]
  },
  {
   "cell_type": "code",
   "execution_count": null,
   "id": "afeb04b3-ad8e-4faa-a278-84caf13ed844",
   "metadata": {},
   "outputs": [],
   "source": [
    "X_age = audio.iloc[:,3:119]\n",
    "y = audio['birth_date']\n",
    "y"
   ]
  },
  {
   "cell_type": "code",
   "execution_count": null,
   "id": "e150415e-275c-46e0-85d9-74584d06dc10",
   "metadata": {},
   "outputs": [],
   "source": [
    "X_train, X_test, y_train, y_test = ms.train_test_split(X_age,y, test_size = 0.25, random_state = 12)\n",
    "X_train"
   ]
  },
  {
   "cell_type": "code",
   "execution_count": null,
   "id": "a0361c97-fbc1-4d72-a021-6a7dacef9fc0",
   "metadata": {},
   "outputs": [],
   "source": [
    "from sklearn.metrics import mean_absolute_error"
   ]
  },
  {
   "cell_type": "code",
   "execution_count": null,
   "id": "24dba85c-4984-4085-8ca0-7a2c4f5e132c",
   "metadata": {},
   "outputs": [],
   "source": [
    "scaler = StandardScaler()\n",
    "scaler.fit_transform(X_train, y_train)"
   ]
  },
  {
   "cell_type": "code",
   "execution_count": null,
   "id": "11b7db6f-75a7-4ef7-a184-e6926c0b9cf4",
   "metadata": {},
   "outputs": [],
   "source": [
    "classifier_mlp = MLPRegressor(max_iter=10000)\n",
    "classifier_mlp.fit(X_train, y_train)\n",
    "y_pred_mlp = classifier_mlp.predict(X_test)\n",
    "score = mean_absolute_error(y_pred_mlp,y_test)\n",
    "print(\"score_mlp  : \", mean_absolute_error(y_pred_mlp,y_test))\n",
    "\n",
    "classifier = RandomForestRegressor()\n",
    "classifier.fit(X_train, y_train)\n",
    "y_pred = classifier.predict(X_test)\n",
    "#print(\"y_train[:] \",y_train[:] )\n",
    "print(\"score_random_forest  : \", mean_absolute_error(y_pred,y_test))\n",
    "\n",
    "\n",
    "clf_xgb = xgb.XGBRegressor()\n",
    "clf_xgb.fit(X_train, y_train)\n",
    "y_pred_xgb = clf_xgb.predict(X_test)\n",
    "\n",
    "#Calcul de la performance de nos predictions\n",
    "print(\"score_xgb  : \",mean_absolute_error(y_pred_xgb, y_test))"
   ]
  },
  {
   "cell_type": "markdown",
   "id": "2a40c4ff-0b59-47c0-ae3c-bdb0bd841311",
   "metadata": {},
   "source": [
    "On observe une erreur minimum pour l'algorithme de randomforest. L'algorithme des reseaux de neurones est éliminé.\n",
    "Maintenant, on va essayer de minimiser l'erreur en jouant sur les paramètres de chaque algorithme."
   ]
  },
  {
   "cell_type": "code",
   "execution_count": null,
   "id": "d50d4ee0-4b50-4c31-ac10-0c4a8e166dcd",
   "metadata": {},
   "outputs": [],
   "source": [
    "score={}\n",
    "for i in ['lbfgs', 'sgd', 'adam']:\n",
    "    classifier_mlp = MLPRegressor(max_iter=10000, solver=i)\n",
    "    classifier_mlp.fit(X_train, y_train)\n",
    "    y_pred_mlp = classifier_mlp.predict(X_test)\n",
    "    score[i] = mean_absolute_error(y_pred_mlp,y_test)\n",
    "    print(\"score_mlp  : \", mean_absolute_error(y_pred_mlp,y_test))\n"
   ]
  },
  {
   "cell_type": "code",
   "execution_count": null,
   "id": "32922315-a448-4bca-978e-21cd7d9f1e83",
   "metadata": {},
   "outputs": [],
   "source": [
    "score_rf= []\n",
    "for i in range(100,150):\n",
    "    classifier = RandomForestRegressor(n_estimators=i)\n",
    "    classifier.fit(X_train, y_train)\n",
    "    y_pred = classifier.predict(X_test)\n",
    "    score_rf.append(mean_absolute_error(y_pred,y_test))\n",
    "score_rf\n",
    "    "
   ]
  },
  {
   "cell_type": "code",
   "execution_count": null,
   "id": "a9741ae0-74a3-4831-b22e-ef268bf29c46",
   "metadata": {},
   "outputs": [],
   "source": [
    "score_xgb= []\n",
    "for i in range(100,150):\n",
    "    clf_xgb = xgb.XGBRegressor(n_estimators=i)\n",
    "    clf_xgb.fit(X_train, y_train)\n",
    "    y_pred_xgb = clf_xgb.predict(X_test)\n",
    "    score_xgb.append(mean_absolute_error(y_pred_xgb,y_test))\n",
    "    \n",
    "score_xgb"
   ]
  },
  {
   "cell_type": "code",
   "execution_count": null,
   "id": "17e8a127-6c67-45af-96cb-848565db82c7",
   "metadata": {},
   "outputs": [],
   "source": [
    "best_model = "
   ]
  },
  {
   "cell_type": "code",
   "execution_count": null,
   "id": "e1d162d6-380d-4a37-b7b9-ccb812d35bcf",
   "metadata": {},
   "outputs": [],
   "source": [
    "feat_selector = b.BorutaPy(best_model, n_estimators='auto', verbose=2, random_state=1)\n",
    "feat_selector.fit(X, y)"
   ]
  },
  {
   "cell_type": "code",
   "execution_count": null,
   "id": "ce892580-043c-4626-8ec5-67a30eed8d71",
   "metadata": {},
   "outputs": [],
   "source": [
    "liste = feat_selector.support_\n",
    "good_col = []\n",
    "for i in range(len(liste)):\n",
    "    if liste[i]==True:\n",
    "        good_col.append(i)\n",
    "good_col"
   ]
  },
  {
   "cell_type": "code",
   "execution_count": null,
   "id": "d5659a05-a0a4-4173-86ab-8a0dd01af543",
   "metadata": {},
   "outputs": [],
   "source": [
    "new_X = audio[audio.columns[good_col]].values"
   ]
  },
  {
   "cell_type": "code",
   "execution_count": null,
   "id": "d2314402-f8f0-4257-911a-23666914b740",
   "metadata": {},
   "outputs": [],
   "source": [
    "shap_explainer = shap.TreeExplainer(best_model)\n",
    "shap_values = shap_explainer.shap_values(new_X)\n",
    "shap.summary_plot(shap_values[0], X, plot_type = 'dot' )"
   ]
  },
  {
   "cell_type": "markdown",
   "id": "d34a7734-cc9e-42a9-8296-de4d726f2c9d",
   "metadata": {},
   "source": [
    "Analyse prédictive de la qualité audio "
   ]
  },
  {
   "cell_type": "markdown",
   "id": "804b3dfc-12dd-4516-b284-f89b7a7be85b",
   "metadata": {},
   "source": [
    "L’objectif ici est l’inverse des analyses précédentes : vous devez prédire la capacité auditive\n",
    "d’une fréquence audio à partir des données anthropologiques des individus."
   ]
  },
  {
   "cell_type": "code",
   "execution_count": null,
   "id": "06d2f4c4-fb0d-4282-9cbd-38a597cf3238",
   "metadata": {},
   "outputs": [],
   "source": [
    "\n",
    "df= audio.loc[:,['population_id', 'birth_date','education', 'sex', 'environment_biotope', 'lang_group', 'laterality']]\n",
    "df['lang_group']=df['lang_group'].fillna('other')\n",
    "df['laterality']=df['laterality'].fillna('other')\n",
    "df"
   ]
  },
  {
   "cell_type": "code",
   "execution_count": null,
   "id": "e1c49fef-cfa9-49f4-9c5b-11624a5e1c60",
   "metadata": {},
   "outputs": [],
   "source": [
    "le = LabelEncoder()\n",
    "df['education'] = le.fit_transform(df['education'])\n",
    "df['sex'] = le.fit_transform(df['sex'])\n",
    "df['environment_biotope'] = le.fit_transform(df['environment_biotope'])\n",
    "df['lang_group'] = le.fit_transform(df['lang_group'])\n",
    "df['laterality'] = le.fit_transform(df['laterality'])"
   ]
  },
  {
   "cell_type": "code",
   "execution_count": null,
   "id": "b24ff522-cdc7-4850-95fe-ec83fe514c74",
   "metadata": {},
   "outputs": [],
   "source": [
    "grave = audio.iloc[:,14]\n",
    "medium = audio.iloc[:,30]\n",
    "aigue = audio.iloc[:,80]"
   ]
  },
  {
   "cell_type": "markdown",
   "id": "52b82a9c-f83b-419d-b845-1d7bbe79f4fb",
   "metadata": {},
   "source": [
    "D'abord on va entrainer le modèle sur la colonne grave"
   ]
  },
  {
   "cell_type": "code",
   "execution_count": null,
   "id": "b422e28a-edf0-49d4-ba1f-e2be8d89d989",
   "metadata": {},
   "outputs": [],
   "source": [
    "X_train_g, X_test_g, y_train_g, y_test_g = ms.train_test_split(df,grave, test_size = 0.25, random_state = 12)\n",
    "X_train_g"
   ]
  },
  {
   "cell_type": "code",
   "execution_count": null,
   "id": "a7ee14e4-09c5-474d-8088-f7b8a0c00092",
   "metadata": {},
   "outputs": [],
   "source": [
    "classifier = RandomForestRegressor()\n",
    "classifier.fit(X_train_g, y_train_g)\n",
    "y_pred = classifier.predict(X_test_g)\n",
    "score_rf=mean_absolute_error(y_pred,y_test_g)"
   ]
  },
  {
   "cell_type": "code",
   "execution_count": null,
   "id": "d5a360d2-eecd-40e0-a9a4-f36cebd19556",
   "metadata": {},
   "outputs": [],
   "source": [
    "score_rf"
   ]
  },
  {
   "cell_type": "markdown",
   "id": "4eaeb080-9f02-4280-bbb6-635447cff0e0",
   "metadata": {},
   "source": [
    "Avec randomforest, la moyenne des erreurs est de d'environ 7. ce qui est un score très bien."
   ]
  },
  {
   "cell_type": "code",
   "execution_count": null,
   "id": "e074e8d7-ceb6-4663-a6fc-f88e0be2c2c7",
   "metadata": {},
   "outputs": [],
   "source": [
    "shap_explainer = shap.TreeExplainer(classifier)\n",
    "shap_values = shap_explainer.shap_values(df)\n",
    "shap.summary_plot(shap_values, df, plot_type = 'dot' )"
   ]
  },
  {
   "cell_type": "markdown",
   "id": "3fd29a55-205f-4965-9fba-e8b1a920447b",
   "metadata": {},
   "source": [
    "Donc d'après le graphe des shapvalues, les colonnes qui impactent fortement la colonne des sons graves sont : birth_date, population_id,environment_biotope, lang_group et plus faiblement la colonne education. Les distributions des données pour la colonne sex et laterality sont très proches de l'axe verticale, ce qui signifie que l'impact de ces colonnes sur l'output très faible."
   ]
  },
  {
   "cell_type": "code",
   "execution_count": null,
   "id": "9e820f83-2126-446a-8e00-975a309481ee",
   "metadata": {},
   "outputs": [],
   "source": [
    "X_train_m, X_test_m, y_train_m, y_test_m = ms.train_test_split(df,medium, test_size = 0.25, random_state = 12)\n",
    "X_train_m"
   ]
  },
  {
   "cell_type": "code",
   "execution_count": null,
   "id": "91569052-b5f2-4c65-87b0-122c7c38082a",
   "metadata": {},
   "outputs": [],
   "source": [
    "classifier.fit(X_train_m, y_train_m)\n",
    "y_pred_m = classifier.predict(X_test_m)\n",
    "score_rf_m=mean_absolute_error(y_pred_m,y_test_m)"
   ]
  },
  {
   "cell_type": "code",
   "execution_count": null,
   "id": "b176a6aa-84f0-4e18-ab9e-b1e800253f67",
   "metadata": {},
   "outputs": [],
   "source": [
    "score_rf_m"
   ]
  },
  {
   "cell_type": "markdown",
   "id": "4c600fa9-4683-447a-a276-cc2bba4248b6",
   "metadata": {},
   "source": [
    "Pour la colonne des medium, la prédiction du random forest est meilleur."
   ]
  },
  {
   "cell_type": "code",
   "execution_count": null,
   "id": "2daaef56-2dfe-4662-9fd4-fab9fe490b3b",
   "metadata": {},
   "outputs": [],
   "source": [
    "shap_explainer = shap.TreeExplainer(classifier)\n",
    "shap_values = shap_explainer.shap_values(df)\n",
    "shap.summary_plot(shap_values, df, plot_type = 'dot' )"
   ]
  },
  {
   "cell_type": "markdown",
   "id": "c3ebeb7e-d0c2-4434-b666-0b3f909f7afa",
   "metadata": {},
   "source": [
    "Pour la colonne de medium, les colonnes très influentes classées de la plus influente à la moins influente sont lang_roup, birth_date, population_id, education et sex. L'environment_biotope a un imapct plus faible. la colonne laterality est négligeable dans la prédiction de cette colonne."
   ]
  },
  {
   "cell_type": "code",
   "execution_count": null,
   "id": "dcec95ce-8883-43b8-a063-027c00f9a2d6",
   "metadata": {},
   "outputs": [],
   "source": [
    "X_train_a, X_test_a, y_train_a, y_test_a = ms.train_test_split(df,aigue, test_size = 0.25, random_state = 12)\n"
   ]
  },
  {
   "cell_type": "code",
   "execution_count": null,
   "id": "c12c39bb-f5de-475e-9cc9-3c7307768518",
   "metadata": {},
   "outputs": [],
   "source": [
    "clf = RandomForestRegressor()\n",
    "clf.fit(X_train_a, y_train_a)\n",
    "y_pred_a = clf.predict(X_test_a)\n",
    "score_rf_a=mean_absolute_error(y_pred_a,y_test_a)"
   ]
  },
  {
   "cell_type": "code",
   "execution_count": null,
   "id": "95dd2030-31e4-4dae-b34b-278d8e44e59b",
   "metadata": {},
   "outputs": [],
   "source": [
    "score_rf_a"
   ]
  },
  {
   "cell_type": "markdown",
   "id": "8021d005-23a0-4db5-a287-5c8d42546f4e",
   "metadata": {},
   "source": [
    "Le score pour la colonne aigue est excellent car l'erreur moyenne est d'environ 6,60. "
   ]
  },
  {
   "cell_type": "code",
   "execution_count": null,
   "id": "d2ab74fd-fd41-4c08-820e-386dde1db647",
   "metadata": {},
   "outputs": [],
   "source": [
    "shap_explainer = shap.TreeExplainer(clf)\n",
    "shap_values = shap_explainer.shap_values(df)\n",
    "shap.summary_plot(shap_values, df, plot_type = 'dot' )"
   ]
  },
  {
   "cell_type": "markdown",
   "id": "b6b78c75-f5e8-4205-9054-1d69ee73da47",
   "metadata": {},
   "source": [
    "Pour la colonne aigue, les colonnes très influentes classées de la plus influente à la moins influente sont birth_date, sex, population_id, environment_biotope et education. La lang_roup a un imapct plus faible. la colonne laterality est négligeable dans la prédiction de cette colonne."
   ]
  },
  {
   "cell_type": "code",
   "execution_count": null,
   "id": "537a3ffa-9860-4a92-ad7d-b34e58623b7a",
   "metadata": {},
   "outputs": [],
   "source": []
  }
 ],
 "metadata": {
  "kernelspec": {
   "display_name": "Python 3 (ipykernel)",
   "language": "python",
   "name": "python3"
  },
  "language_info": {
   "codemirror_mode": {
    "name": "ipython",
    "version": 3
   },
   "file_extension": ".py",
   "mimetype": "text/x-python",
   "name": "python",
   "nbconvert_exporter": "python",
   "pygments_lexer": "ipython3",
   "version": "3.10.8"
  }
 },
 "nbformat": 4,
 "nbformat_minor": 5
}
